{
  "nbformat": 4,
  "nbformat_minor": 0,
  "metadata": {
    "colab": {
      "name": "Untitled3.ipynb",
      "provenance": []
    },
    "kernelspec": {
      "name": "python3",
      "display_name": "Python 3"
    },
    "language_info": {
      "name": "python"
    }
  },
  "cells": [
    {
      "cell_type": "code",
      "metadata": {
        "id": "8a2mkR9RQ4xo"
      },
      "source": [
        "import pandas as pd\n",
        "import numpy as np\n",
        "from matplotlib import pyplot as plt\n",
        "import seaborn as sns\n",
        "import re\n",
        "\n",
        "from sklearn.model_selection import train_test_split\n",
        "from sklearn.tree import DecisionTreeClassifier\n",
        "from sklearn.ensemble import RandomForestClassifier\n",
        "from sklearn.model_selection import GridSearchCV\n",
        "from sklearn.metrics import accuracy_score, classification_report\n",
        "from sklearn.ensemble import BaggingClassifier\n",
        "from sklearn.linear_model import LogisticRegression\n",
        "import xgboost as xgb"
      ],
      "execution_count": null,
      "outputs": []
    },
    {
      "cell_type": "code",
      "metadata": {
        "colab": {
          "base_uri": "https://localhost:8080/",
          "height": 394
        },
        "id": "xFwATiZiRCeM",
        "outputId": "a32d2fcc-7ae0-476d-fddf-ef3f269bf92a"
      },
      "source": [
        "df = pd.read_csv('/content/drive/MyDrive/TSW-hackathon-1/train.csv')\n",
        "df.head()"
      ],
      "execution_count": null,
      "outputs": [
        {
          "output_type": "execute_result",
          "data": {
            "text/html": [
              "<div>\n",
              "<style scoped>\n",
              "    .dataframe tbody tr th:only-of-type {\n",
              "        vertical-align: middle;\n",
              "    }\n",
              "\n",
              "    .dataframe tbody tr th {\n",
              "        vertical-align: top;\n",
              "    }\n",
              "\n",
              "    .dataframe thead th {\n",
              "        text-align: right;\n",
              "    }\n",
              "</style>\n",
              "<table border=\"1\" class=\"dataframe\">\n",
              "  <thead>\n",
              "    <tr style=\"text-align: right;\">\n",
              "      <th></th>\n",
              "      <th>customer_id</th>\n",
              "      <th>destination</th>\n",
              "      <th>passanger</th>\n",
              "      <th>weather</th>\n",
              "      <th>temperature</th>\n",
              "      <th>time</th>\n",
              "      <th>coupon</th>\n",
              "      <th>expiration</th>\n",
              "      <th>gender</th>\n",
              "      <th>age</th>\n",
              "      <th>maritalStatus</th>\n",
              "      <th>has_children</th>\n",
              "      <th>education</th>\n",
              "      <th>occupation</th>\n",
              "      <th>income</th>\n",
              "      <th>car</th>\n",
              "      <th>Bar</th>\n",
              "      <th>CoffeeHouse</th>\n",
              "      <th>CarryAway</th>\n",
              "      <th>RestaurantLessThan20</th>\n",
              "      <th>Restaurant20To50</th>\n",
              "      <th>toCoupon_GEQ5min</th>\n",
              "      <th>toCoupon_GEQ15min</th>\n",
              "      <th>toCoupon_GEQ25min</th>\n",
              "      <th>direction_same</th>\n",
              "      <th>direction_opp</th>\n",
              "      <th>Y</th>\n",
              "    </tr>\n",
              "  </thead>\n",
              "  <tbody>\n",
              "    <tr>\n",
              "      <th>0</th>\n",
              "      <td>258868</td>\n",
              "      <td>No Urgent Place</td>\n",
              "      <td>Friend(s)</td>\n",
              "      <td>Sunny</td>\n",
              "      <td>80</td>\n",
              "      <td>6PM</td>\n",
              "      <td>Restaurant(&lt;20)</td>\n",
              "      <td>1d</td>\n",
              "      <td>Male</td>\n",
              "      <td>21</td>\n",
              "      <td>Unmarried partner</td>\n",
              "      <td>0</td>\n",
              "      <td>Some college - no degree</td>\n",
              "      <td>Student</td>\n",
              "      <td>Less than $12500</td>\n",
              "      <td>NaN</td>\n",
              "      <td>less1</td>\n",
              "      <td>1~3</td>\n",
              "      <td>4~8</td>\n",
              "      <td>4~8</td>\n",
              "      <td>never</td>\n",
              "      <td>1</td>\n",
              "      <td>1</td>\n",
              "      <td>0</td>\n",
              "      <td>0</td>\n",
              "      <td>1</td>\n",
              "      <td>1</td>\n",
              "    </tr>\n",
              "    <tr>\n",
              "      <th>1</th>\n",
              "      <td>318369</td>\n",
              "      <td>Work</td>\n",
              "      <td>Alone</td>\n",
              "      <td>Sunny</td>\n",
              "      <td>80</td>\n",
              "      <td>7AM</td>\n",
              "      <td>Restaurant(&lt;20)</td>\n",
              "      <td>2h</td>\n",
              "      <td>Male</td>\n",
              "      <td>21</td>\n",
              "      <td>Single</td>\n",
              "      <td>0</td>\n",
              "      <td>Bachelors degree</td>\n",
              "      <td>Student</td>\n",
              "      <td>$37500 - $49999</td>\n",
              "      <td>NaN</td>\n",
              "      <td>less1</td>\n",
              "      <td>1~3</td>\n",
              "      <td>4~8</td>\n",
              "      <td>1~3</td>\n",
              "      <td>less1</td>\n",
              "      <td>1</td>\n",
              "      <td>0</td>\n",
              "      <td>0</td>\n",
              "      <td>1</td>\n",
              "      <td>0</td>\n",
              "      <td>0</td>\n",
              "    </tr>\n",
              "    <tr>\n",
              "      <th>2</th>\n",
              "      <td>320906</td>\n",
              "      <td>No Urgent Place</td>\n",
              "      <td>Alone</td>\n",
              "      <td>Sunny</td>\n",
              "      <td>80</td>\n",
              "      <td>10AM</td>\n",
              "      <td>Coffee House</td>\n",
              "      <td>2h</td>\n",
              "      <td>Female</td>\n",
              "      <td>21</td>\n",
              "      <td>Married partner</td>\n",
              "      <td>0</td>\n",
              "      <td>Some college - no degree</td>\n",
              "      <td>Student</td>\n",
              "      <td>Less than $12500</td>\n",
              "      <td>NaN</td>\n",
              "      <td>less1</td>\n",
              "      <td>gt8</td>\n",
              "      <td>4~8</td>\n",
              "      <td>1~3</td>\n",
              "      <td>1~3</td>\n",
              "      <td>1</td>\n",
              "      <td>1</td>\n",
              "      <td>0</td>\n",
              "      <td>0</td>\n",
              "      <td>1</td>\n",
              "      <td>0</td>\n",
              "    </tr>\n",
              "    <tr>\n",
              "      <th>3</th>\n",
              "      <td>412393</td>\n",
              "      <td>Work</td>\n",
              "      <td>Alone</td>\n",
              "      <td>Rainy</td>\n",
              "      <td>55</td>\n",
              "      <td>7AM</td>\n",
              "      <td>Restaurant(&lt;20)</td>\n",
              "      <td>2h</td>\n",
              "      <td>Female</td>\n",
              "      <td>26</td>\n",
              "      <td>Single</td>\n",
              "      <td>0</td>\n",
              "      <td>Bachelors degree</td>\n",
              "      <td>Computer &amp; Mathematical</td>\n",
              "      <td>$25000 - $37499</td>\n",
              "      <td>NaN</td>\n",
              "      <td>less1</td>\n",
              "      <td>less1</td>\n",
              "      <td>4~8</td>\n",
              "      <td>1~3</td>\n",
              "      <td>never</td>\n",
              "      <td>1</td>\n",
              "      <td>1</td>\n",
              "      <td>1</td>\n",
              "      <td>0</td>\n",
              "      <td>1</td>\n",
              "      <td>0</td>\n",
              "    </tr>\n",
              "    <tr>\n",
              "      <th>4</th>\n",
              "      <td>290854</td>\n",
              "      <td>Home</td>\n",
              "      <td>Alone</td>\n",
              "      <td>Snowy</td>\n",
              "      <td>30</td>\n",
              "      <td>6PM</td>\n",
              "      <td>Coffee House</td>\n",
              "      <td>1d</td>\n",
              "      <td>Male</td>\n",
              "      <td>31</td>\n",
              "      <td>Single</td>\n",
              "      <td>0</td>\n",
              "      <td>Some college - no degree</td>\n",
              "      <td>Unemployed</td>\n",
              "      <td>$12500 - $24999</td>\n",
              "      <td>NaN</td>\n",
              "      <td>1~3</td>\n",
              "      <td>less1</td>\n",
              "      <td>4~8</td>\n",
              "      <td>less1</td>\n",
              "      <td>never</td>\n",
              "      <td>1</td>\n",
              "      <td>1</td>\n",
              "      <td>0</td>\n",
              "      <td>0</td>\n",
              "      <td>1</td>\n",
              "      <td>0</td>\n",
              "    </tr>\n",
              "  </tbody>\n",
              "</table>\n",
              "</div>"
            ],
            "text/plain": [
              "   customer_id      destination  passanger  ... direction_same  direction_opp  Y\n",
              "0       258868  No Urgent Place  Friend(s)  ...              0              1  1\n",
              "1       318369             Work      Alone  ...              1              0  0\n",
              "2       320906  No Urgent Place      Alone  ...              0              1  0\n",
              "3       412393             Work      Alone  ...              0              1  0\n",
              "4       290854             Home      Alone  ...              0              1  0\n",
              "\n",
              "[5 rows x 27 columns]"
            ]
          },
          "metadata": {
            "tags": []
          },
          "execution_count": 2
        }
      ]
    },
    {
      "cell_type": "code",
      "metadata": {
        "id": "HQs1_vtHRJ2I"
      },
      "source": [
        "drop_columns = ['customer_id','direction_opp']\n",
        "dfModified = df.copy()"
      ],
      "execution_count": null,
      "outputs": []
    },
    {
      "cell_type": "code",
      "metadata": {
        "id": "j2NJ4XMPRMui"
      },
      "source": [
        "# Converting Gender into a binary class\n",
        "dfModified['gender'] = (dfModified['gender'] == \"Male\").astype(int)\n",
        "\n",
        "# Combining Rainy and Snowy into one class\n",
        "dfModified['is_sunny'] = (dfModified['weather'] == 'Sunny').astype(int)\n",
        "drop_columns.append('weather')\n",
        "\n",
        "# Converting expiration into binary class\n",
        "dfModified['expiration_oneDay'] = (dfModified['expiration'] == '1d').astype(int)\n",
        "drop_columns.append('expiration')"
      ],
      "execution_count": null,
      "outputs": []
    },
    {
      "cell_type": "code",
      "metadata": {
        "id": "5uBvENRBRN9T"
      },
      "source": [
        "# Converting the Temperature column into numeric labels\n",
        "dfModified['temperature_index'] = 3\n",
        "dfModified.loc[dfModified['temperature'] == 30,'temperature_index'] = 1 \n",
        "dfModified.loc[dfModified['temperature'] == 55,'temperature_index'] = 2\n",
        "drop_columns.append('temperature')\n",
        "\n",
        "# Converting the time column into numeric labels\n",
        "dfModified['time_index'] = 0\n",
        "dfModified.loc[dfModified['time'] == '10AM','time_index'] = 1 \n",
        "dfModified.loc[dfModified['time'] == '2PM','time_index'] = 2\n",
        "dfModified.loc[dfModified['time'] == '6PM','time_index'] = 3\n",
        "dfModified.loc[dfModified['time'] == '10PM','time_index'] = 4\n",
        "drop_columns.append('time')"
      ],
      "execution_count": null,
      "outputs": []
    },
    {
      "cell_type": "code",
      "metadata": {
        "id": "zLSC_qtLRSKu"
      },
      "source": [
        "def is_often(val):\n",
        "  often_class = ['gt8','4~8']\n",
        "  return (val in often_class)\n",
        "\n",
        "# Creating is often classes\n",
        "dfModified['Bar_isoften'] = dfModified['Bar'].apply(is_often).astype(int)\n",
        "drop_columns.append('Bar')\n",
        "\n",
        "dfModified['CoffeeHouse_isoften'] = dfModified['CoffeeHouse'].apply(is_often).astype(int)\n",
        "drop_columns.append('CoffeeHouse')\n",
        "\n",
        "dfModified['CarryAway_isoften'] = dfModified['CarryAway'].apply(is_often).astype(int)\n",
        "drop_columns.append('CarryAway')\n",
        "\n",
        "dfModified['RestaurantLessThan20_isoften'] = dfModified['RestaurantLessThan20'].apply(is_often).astype(int)\n",
        "drop_columns.append('RestaurantLessThan20')\n",
        "\n",
        "dfModified['Restaurant20To50_isoften'] = dfModified['Restaurant20To50'].apply(is_often).astype(int)\n",
        "drop_columns.append('Restaurant20To50')"
      ],
      "execution_count": null,
      "outputs": []
    },
    {
      "cell_type": "code",
      "metadata": {
        "id": "QjXQ-DFURZeC"
      },
      "source": [
        "def income_mean(val):\n",
        "  incomeGroup = '\\d+'\n",
        "  incClass = [int(dig) for dig in re.findall(incomeGroup, val)]\n",
        "  if len(incClass) == 2:\n",
        "    return np.mean(incClass)\n",
        "  elif 'Less than' in val:\n",
        "    return 6250.0\n",
        "  else:\n",
        "    return 150000.0\n",
        "\n",
        "\n",
        "dfModified['income_mean'] = dfModified['income'].apply(income_mean)\n",
        "drop_columns.append('income')"
      ],
      "execution_count": null,
      "outputs": []
    },
    {
      "cell_type": "code",
      "metadata": {
        "id": "ldLdItykRc3S"
      },
      "source": [
        "groupOccupation_other = ['Farming Fishing & Forestry',\n",
        " 'Building & Grounds Cleaning & Maintenance',\n",
        " 'Production Occupations',\n",
        " 'Installation Maintenance & Repair',\n",
        " 'Construction & Extraction',\n",
        " 'Protective Service',\n",
        " 'Personal Care & Service',\n",
        " 'Architecture & Engineering',\n",
        " 'Life Physical Social Science',\n",
        " 'Transportation & Material Moving',\n",
        " 'Legal',\n",
        " 'Healthcare Support',\n",
        " 'Community & Social Services',\n",
        " 'Healthcare Practitioners & Technical',\n",
        " 'Food Preparation & Serving Related']\n",
        "\n",
        "dfModified.loc[dfModified['occupation'].isin(groupOccupation_other), 'occupation'] = \"other\""
      ],
      "execution_count": null,
      "outputs": []
    },
    {
      "cell_type": "code",
      "metadata": {
        "colab": {
          "base_uri": "https://localhost:8080/"
        },
        "id": "v1AuJCvfReJD",
        "outputId": "e4f02e76-1b27-43d0-9807-815fa436f486"
      },
      "source": [
        "print(dfModified.shape)\n",
        "dfModified.drop(set(drop_columns),axis=1, inplace=True)\n",
        "print(dfModified.shape)"
      ],
      "execution_count": null,
      "outputs": [
        {
          "output_type": "stream",
          "text": [
            "(10147, 37)\n",
            "(10147, 25)\n"
          ],
          "name": "stdout"
        }
      ]
    },
    {
      "cell_type": "code",
      "metadata": {
        "id": "QITAMr-dRhve"
      },
      "source": [
        "featuresColumns = pd.get_dummies(dfModified.drop(['Y'], axis=1))\n",
        "featuresColumns.columns = [re.sub('[^a-zA-Z0-9]', '', col) for col in featuresColumns.columns]\n",
        "TargetColumns = dfModified['Y']"
      ],
      "execution_count": null,
      "outputs": []
    },
    {
      "cell_type": "code",
      "metadata": {
        "id": "sSnOD9itRnSo"
      },
      "source": [
        "drop_red_columns = ['destinationHome','destinationWork', 'educationAssociatesdegree','educationHighSchoolGraduate','educationSomeHighSchool', 'RestaurantLessThan20isoften',\n",
        "                    'age41','age46', 'age50plus','CarryAwayisoften','haschildren',\n",
        "                    'agebelow21', 'toCouponGEQ5min']\n",
        "featuresColumns.drop(drop_red_columns, axis=1, inplace=True)"
      ],
      "execution_count": null,
      "outputs": []
    },
    {
      "cell_type": "code",
      "metadata": {
        "id": "fCIwoEDuR0_6"
      },
      "source": [
        "xtrain, xtest, ytrain, ytest = train_test_split(featuresColumns, TargetColumns, test_size=0.2, random_state=20)"
      ],
      "execution_count": null,
      "outputs": []
    },
    {
      "cell_type": "code",
      "metadata": {
        "colab": {
          "base_uri": "https://localhost:8080/"
        },
        "id": "1bkBXo9cR2dK",
        "outputId": "91e5b19d-8951-4630-df59-a1fba671aada"
      },
      "source": [
        "tree = DecisionTreeClassifier(random_state = 20)\n",
        "tree.fit(xtrain, ytrain)\n",
        "ypred = tree.predict(xtest)\n",
        "print(f\"Accuracy is {accuracy_score(ytest, ypred)*100}\")"
      ],
      "execution_count": null,
      "outputs": [
        {
          "output_type": "stream",
          "text": [
            "Accuracy is 62.906403940886705\n"
          ],
          "name": "stdout"
        }
      ]
    },
    {
      "cell_type": "code",
      "metadata": {
        "id": "obj5cORGR7nC"
      },
      "source": [
        "DtreeImportantFeatures = pd.DataFrame({'Column': featuresColumns.columns,\n",
        "             'importance': tree.feature_importances_}).sort_values(by=\"importance\", ascending=False)\n",
        "DtreeImportantFeatures.to_csv('./DtreeImportantFeatures.csv', index=False)"
      ],
      "execution_count": null,
      "outputs": []
    },
    {
      "cell_type": "code",
      "metadata": {
        "colab": {
          "base_uri": "https://localhost:8080/"
        },
        "id": "iyABRhe7R_yD",
        "outputId": "0b9d22d4-db6a-44bf-c0eb-883daeddacdd"
      },
      "source": [
        "grid2 = GridSearchCV(RandomForestClassifier(), \n",
        "                     {'n_estimators': list(range(0,500, 50)), 'criterion':[\"entropy\"], 'max_depth':[None]}, \n",
        "                     refit = True, verbose = 3, n_jobs=-1)\n",
        "\n",
        "grid2.fit(featuresColumns, TargetColumns)"
      ],
      "execution_count": null,
      "outputs": [
        {
          "output_type": "stream",
          "text": [
            "Fitting 5 folds for each of 10 candidates, totalling 50 fits\n"
          ],
          "name": "stdout"
        },
        {
          "output_type": "stream",
          "text": [
            "[Parallel(n_jobs=-1)]: Using backend LokyBackend with 2 concurrent workers.\n",
            "[Parallel(n_jobs=-1)]: Done  28 tasks      | elapsed:   35.7s\n",
            "[Parallel(n_jobs=-1)]: Done  50 out of  50 | elapsed:  1.9min finished\n"
          ],
          "name": "stderr"
        },
        {
          "output_type": "execute_result",
          "data": {
            "text/plain": [
              "GridSearchCV(cv=None, error_score=nan,\n",
              "             estimator=RandomForestClassifier(bootstrap=True, ccp_alpha=0.0,\n",
              "                                              class_weight=None,\n",
              "                                              criterion='gini', max_depth=None,\n",
              "                                              max_features='auto',\n",
              "                                              max_leaf_nodes=None,\n",
              "                                              max_samples=None,\n",
              "                                              min_impurity_decrease=0.0,\n",
              "                                              min_impurity_split=None,\n",
              "                                              min_samples_leaf=1,\n",
              "                                              min_samples_split=2,\n",
              "                                              min_weight_fraction_leaf=0.0,\n",
              "                                              n_estimators=100, n_jobs=None,\n",
              "                                              oob_score=False,\n",
              "                                              random_state=None, verbose=0,\n",
              "                                              warm_start=False),\n",
              "             iid='deprecated', n_jobs=-1,\n",
              "             param_grid={'criterion': ['entropy'], 'max_depth': [None],\n",
              "                         'n_estimators': [0, 50, 100, 150, 200, 250, 300, 350,\n",
              "                                          400, 450]},\n",
              "             pre_dispatch='2*n_jobs', refit=True, return_train_score=False,\n",
              "             scoring=None, verbose=3)"
            ]
          },
          "metadata": {
            "tags": []
          },
          "execution_count": 15
        }
      ]
    },
    {
      "cell_type": "code",
      "metadata": {
        "id": "AGsgCDLqSSU4"
      },
      "source": [
        "model_1 = RandomForestClassifier(criterion=\"entropy\", n_estimators=400)\n",
        "model_2 = LogisticRegression()\n",
        "model_3 = xgb.XGBClassifier()\n",
        "\n",
        "\n",
        "model_1.fit(xtrain, ytrain)\n",
        "model_2.fit(xtrain, ytrain)\n",
        "model_3.fit(xtrain, ytrain)\n",
        "\n",
        "predprob1 = model_1.predict_proba(xtest)\n",
        "predprob2 = model_2.predict_proba(xtest)\n",
        "predprob3 = model_3.predict_proba(xtest)\n",
        "\n",
        "predProbability = (predprob1+predprob2+predprob3)/3.0\n",
        "pred = [0 if prob[0] > prob[1] else 1 for prob in predProbability]"
      ],
      "execution_count": null,
      "outputs": []
    },
    {
      "cell_type": "code",
      "metadata": {
        "id": "5bjsYLvwStDe"
      },
      "source": [
        "boosterGrid = GridSearchCV(xgb.XGBClassifier(),\n",
        "                           {'n_estimator':list(range(50,500, 20)), 'learning_rate':[0.1, 0.001, 1, 1e-15], 'booster':['gbtree','gblinear','dart']},\n",
        "                           refit = True, verbose = 3, n_jobs=-1)\n",
        "boosterGrid.fit(featuresColumns, TargetColumns)\n",
        "print(boosterGrid.best_score_)"
      ],
      "execution_count": null,
      "outputs": []
    },
    {
      "cell_type": "code",
      "metadata": {
        "id": "nGb1fpYoS6pV"
      },
      "source": [
        "modelBagging = BaggingClassifier(base_estimator=RandomForestClassifier(max_depth=10), n_estimators=1000)\n",
        "\n",
        "modelBagging.fit(xtrain, ytrain)\n",
        "ypred = modelBagging.predict(xtest)\n",
        "print(f\"Accuracy is {accuracy_score(ytest, ypred)*100}\")"
      ],
      "execution_count": null,
      "outputs": []
    },
    {
      "cell_type": "code",
      "metadata": {
        "colab": {
          "base_uri": "https://localhost:8080/",
          "height": 428
        },
        "id": "Zer9rGAzTSjZ",
        "outputId": "48c0e595-68e8-4f3b-8680-e10876d442cf"
      },
      "source": [
        "testDF = pd.read_csv('/content/drive/MyDrive/TSW-hackathon-1/test.csv')\n",
        "testDF.head()"
      ],
      "execution_count": null,
      "outputs": [
        {
          "output_type": "execute_result",
          "data": {
            "text/html": [
              "<div>\n",
              "<style scoped>\n",
              "    .dataframe tbody tr th:only-of-type {\n",
              "        vertical-align: middle;\n",
              "    }\n",
              "\n",
              "    .dataframe tbody tr th {\n",
              "        vertical-align: top;\n",
              "    }\n",
              "\n",
              "    .dataframe thead th {\n",
              "        text-align: right;\n",
              "    }\n",
              "</style>\n",
              "<table border=\"1\" class=\"dataframe\">\n",
              "  <thead>\n",
              "    <tr style=\"text-align: right;\">\n",
              "      <th></th>\n",
              "      <th>customer_id</th>\n",
              "      <th>destination</th>\n",
              "      <th>passanger</th>\n",
              "      <th>weather</th>\n",
              "      <th>temperature</th>\n",
              "      <th>time</th>\n",
              "      <th>coupon</th>\n",
              "      <th>expiration</th>\n",
              "      <th>gender</th>\n",
              "      <th>age</th>\n",
              "      <th>maritalStatus</th>\n",
              "      <th>has_children</th>\n",
              "      <th>education</th>\n",
              "      <th>occupation</th>\n",
              "      <th>income</th>\n",
              "      <th>car</th>\n",
              "      <th>Bar</th>\n",
              "      <th>CoffeeHouse</th>\n",
              "      <th>CarryAway</th>\n",
              "      <th>RestaurantLessThan20</th>\n",
              "      <th>Restaurant20To50</th>\n",
              "      <th>toCoupon_GEQ5min</th>\n",
              "      <th>toCoupon_GEQ15min</th>\n",
              "      <th>toCoupon_GEQ25min</th>\n",
              "      <th>direction_same</th>\n",
              "      <th>direction_opp</th>\n",
              "    </tr>\n",
              "  </thead>\n",
              "  <tbody>\n",
              "    <tr>\n",
              "      <th>0</th>\n",
              "      <td>374679</td>\n",
              "      <td>No Urgent Place</td>\n",
              "      <td>Friend(s)</td>\n",
              "      <td>Sunny</td>\n",
              "      <td>80</td>\n",
              "      <td>6PM</td>\n",
              "      <td>Coffee House</td>\n",
              "      <td>1d</td>\n",
              "      <td>Female</td>\n",
              "      <td>below21</td>\n",
              "      <td>Single</td>\n",
              "      <td>0</td>\n",
              "      <td>Some college - no degree</td>\n",
              "      <td>Healthcare Support</td>\n",
              "      <td>Less than $12500</td>\n",
              "      <td>NaN</td>\n",
              "      <td>never</td>\n",
              "      <td>1~3</td>\n",
              "      <td>less1</td>\n",
              "      <td>4~8</td>\n",
              "      <td>less1</td>\n",
              "      <td>1</td>\n",
              "      <td>0</td>\n",
              "      <td>0</td>\n",
              "      <td>0</td>\n",
              "      <td>1</td>\n",
              "    </tr>\n",
              "    <tr>\n",
              "      <th>1</th>\n",
              "      <td>469678</td>\n",
              "      <td>Home</td>\n",
              "      <td>Alone</td>\n",
              "      <td>Sunny</td>\n",
              "      <td>80</td>\n",
              "      <td>6PM</td>\n",
              "      <td>Carry out &amp; Take away</td>\n",
              "      <td>2h</td>\n",
              "      <td>Male</td>\n",
              "      <td>21</td>\n",
              "      <td>Unmarried partner</td>\n",
              "      <td>0</td>\n",
              "      <td>High School Graduate</td>\n",
              "      <td>Food Preparation &amp; Serving Related</td>\n",
              "      <td>$12500 - $24999</td>\n",
              "      <td>NaN</td>\n",
              "      <td>1~3</td>\n",
              "      <td>never</td>\n",
              "      <td>gt8</td>\n",
              "      <td>4~8</td>\n",
              "      <td>1~3</td>\n",
              "      <td>1</td>\n",
              "      <td>1</td>\n",
              "      <td>0</td>\n",
              "      <td>1</td>\n",
              "      <td>0</td>\n",
              "    </tr>\n",
              "    <tr>\n",
              "      <th>2</th>\n",
              "      <td>216140</td>\n",
              "      <td>No Urgent Place</td>\n",
              "      <td>Alone</td>\n",
              "      <td>Rainy</td>\n",
              "      <td>55</td>\n",
              "      <td>10AM</td>\n",
              "      <td>Coffee House</td>\n",
              "      <td>1d</td>\n",
              "      <td>Female</td>\n",
              "      <td>26</td>\n",
              "      <td>Married partner</td>\n",
              "      <td>1</td>\n",
              "      <td>Some college - no degree</td>\n",
              "      <td>Unemployed</td>\n",
              "      <td>$25000 - $37499</td>\n",
              "      <td>NaN</td>\n",
              "      <td>never</td>\n",
              "      <td>never</td>\n",
              "      <td>1~3</td>\n",
              "      <td>less1</td>\n",
              "      <td>never</td>\n",
              "      <td>1</td>\n",
              "      <td>1</td>\n",
              "      <td>0</td>\n",
              "      <td>0</td>\n",
              "      <td>1</td>\n",
              "    </tr>\n",
              "    <tr>\n",
              "      <th>3</th>\n",
              "      <td>184301</td>\n",
              "      <td>No Urgent Place</td>\n",
              "      <td>Partner</td>\n",
              "      <td>Sunny</td>\n",
              "      <td>80</td>\n",
              "      <td>6PM</td>\n",
              "      <td>Bar</td>\n",
              "      <td>1d</td>\n",
              "      <td>Male</td>\n",
              "      <td>50plus</td>\n",
              "      <td>Unmarried partner</td>\n",
              "      <td>1</td>\n",
              "      <td>Associates degree</td>\n",
              "      <td>Retired</td>\n",
              "      <td>$50000 - $62499</td>\n",
              "      <td>NaN</td>\n",
              "      <td>never</td>\n",
              "      <td>4~8</td>\n",
              "      <td>4~8</td>\n",
              "      <td>1~3</td>\n",
              "      <td>less1</td>\n",
              "      <td>1</td>\n",
              "      <td>1</td>\n",
              "      <td>0</td>\n",
              "      <td>0</td>\n",
              "      <td>1</td>\n",
              "    </tr>\n",
              "    <tr>\n",
              "      <th>4</th>\n",
              "      <td>148720</td>\n",
              "      <td>Work</td>\n",
              "      <td>Alone</td>\n",
              "      <td>Sunny</td>\n",
              "      <td>30</td>\n",
              "      <td>7AM</td>\n",
              "      <td>Carry out &amp; Take away</td>\n",
              "      <td>1d</td>\n",
              "      <td>Female</td>\n",
              "      <td>26</td>\n",
              "      <td>Married partner</td>\n",
              "      <td>0</td>\n",
              "      <td>Some college - no degree</td>\n",
              "      <td>Office &amp; Administrative Support</td>\n",
              "      <td>$75000 - $87499</td>\n",
              "      <td>NaN</td>\n",
              "      <td>never</td>\n",
              "      <td>never</td>\n",
              "      <td>1~3</td>\n",
              "      <td>4~8</td>\n",
              "      <td>less1</td>\n",
              "      <td>1</td>\n",
              "      <td>1</td>\n",
              "      <td>0</td>\n",
              "      <td>0</td>\n",
              "      <td>1</td>\n",
              "    </tr>\n",
              "  </tbody>\n",
              "</table>\n",
              "</div>"
            ],
            "text/plain": [
              "   customer_id      destination  ... direction_same direction_opp\n",
              "0       374679  No Urgent Place  ...              0             1\n",
              "1       469678             Home  ...              1             0\n",
              "2       216140  No Urgent Place  ...              0             1\n",
              "3       184301  No Urgent Place  ...              0             1\n",
              "4       148720             Work  ...              0             1\n",
              "\n",
              "[5 rows x 26 columns]"
            ]
          },
          "metadata": {
            "tags": []
          },
          "execution_count": 18
        }
      ]
    },
    {
      "cell_type": "code",
      "metadata": {
        "id": "Z7skPDnmTCH4"
      },
      "source": [
        "drop_columns = ['customer_id','direction_opp']\n",
        "dfModified_test = testDF.copy()"
      ],
      "execution_count": null,
      "outputs": []
    },
    {
      "cell_type": "code",
      "metadata": {
        "id": "facstlp2TeDl"
      },
      "source": [
        "# Converting Gender into a binary class\n",
        "dfModified_test['gender'] = (dfModified_test['gender'] == \"Male\").astype(int)\n",
        "\n",
        "# Combining Rainy and Snowy into one class\n",
        "dfModified_test['is_sunny'] = (dfModified_test['weather'] == 'Sunny').astype(int)\n",
        "drop_columns.append('weather')\n",
        "\n",
        "# Converting expiration into binary class\n",
        "dfModified_test['expiration_oneDay'] = (dfModified_test['expiration'] == '1d').astype(int)\n",
        "drop_columns.append('expiration')\n",
        "\n",
        "# Converting the Temperature column into numeric labels\n",
        "dfModified_test['temperature_index'] = 3\n",
        "dfModified_test.loc[dfModified_test['temperature'] == 30,'temperature_index'] = 1 \n",
        "dfModified_test.loc[dfModified_test['temperature'] == 55,'temperature_index'] = 2\n",
        "drop_columns.append('temperature')\n",
        "\n",
        "# Converting the time column into numeric labels\n",
        "dfModified_test['time_index'] = 0\n",
        "dfModified_test.loc[dfModified_test['time'] == '10AM','time_index'] = 1 \n",
        "dfModified_test.loc[dfModified_test['time'] == '2PM','time_index'] = 2\n",
        "dfModified_test.loc[dfModified_test['time'] == '6PM','time_index'] = 3\n",
        "dfModified_test.loc[dfModified_test['time'] == '10PM','time_index'] = 4\n",
        "drop_columns.append('time')"
      ],
      "execution_count": null,
      "outputs": []
    },
    {
      "cell_type": "code",
      "metadata": {
        "id": "GaxjM90VTlif"
      },
      "source": [
        "def is_often(val):\n",
        "  often_class = ['gt8','4~8']\n",
        "  return (val in often_class)\n",
        "\n",
        "# Creating is often classes\n",
        "dfModified_test['Bar_isoften'] = dfModified_test['Bar'].apply(is_often).astype(int)\n",
        "drop_columns.append('Bar')\n",
        "\n",
        "dfModified_test['CoffeeHouse_isoften'] = dfModified_test['CoffeeHouse'].apply(is_often).astype(int)\n",
        "drop_columns.append('CoffeeHouse')\n",
        "\n",
        "dfModified_test['CarryAway_isoften'] = dfModified_test['CarryAway'].apply(is_often).astype(int)\n",
        "drop_columns.append('CarryAway')\n",
        "\n",
        "dfModified_test['RestaurantLessThan20_isoften'] = dfModified_test['RestaurantLessThan20'].apply(is_often).astype(int)\n",
        "drop_columns.append('RestaurantLessThan20')\n",
        "\n",
        "dfModified_test['Restaurant20To50_isoften'] = dfModified_test['Restaurant20To50'].apply(is_often).astype(int)\n",
        "drop_columns.append('Restaurant20To50')"
      ],
      "execution_count": null,
      "outputs": []
    },
    {
      "cell_type": "code",
      "metadata": {
        "id": "12wwbP_oTmZz"
      },
      "source": [
        "def income_mean(val):\n",
        "  incomeGroup = '\\d+'\n",
        "  incClass = [int(dig) for dig in re.findall(incomeGroup, val)]\n",
        "  if len(incClass) == 2:\n",
        "    return np.mean(incClass)\n",
        "  elif 'Less than' in val:\n",
        "    return 6250.0\n",
        "  else:\n",
        "    return 150000.0\n",
        "\n",
        "\n",
        "dfModified_test['income_mean'] = dfModified_test['income'].apply(income_mean)\n",
        "drop_columns.append('income')"
      ],
      "execution_count": null,
      "outputs": []
    },
    {
      "cell_type": "code",
      "metadata": {
        "id": "ZQRI5jN9TtyU"
      },
      "source": [
        "groupOccupation_other = ['Farming Fishing & Forestry',\n",
        " 'Building & Grounds Cleaning & Maintenance',\n",
        " 'Production Occupations',\n",
        " 'Installation Maintenance & Repair',\n",
        " 'Construction & Extraction',\n",
        " 'Protective Service',\n",
        " 'Personal Care & Service',\n",
        " 'Architecture & Engineering',\n",
        " 'Life Physical Social Science',\n",
        " 'Transportation & Material Moving',\n",
        " 'Legal',\n",
        " 'Healthcare Support',\n",
        " 'Community & Social Services',\n",
        " 'Healthcare Practitioners & Technical',\n",
        " 'Food Preparation & Serving Related']\n",
        "\n",
        "dfModified_test.loc[dfModified_test['occupation'].isin(groupOccupation_other), 'occupation'] = \"other\""
      ],
      "execution_count": null,
      "outputs": []
    },
    {
      "cell_type": "code",
      "metadata": {
        "colab": {
          "base_uri": "https://localhost:8080/"
        },
        "id": "UneY9QPLTxYW",
        "outputId": "3a56a405-e189-4b7f-f62c-27b00cb586b4"
      },
      "source": [
        "print(dfModified_test.shape)\n",
        "dfModified_test.drop(set(drop_columns),axis=1, inplace=True)\n",
        "print(dfModified_test.shape)"
      ],
      "execution_count": null,
      "outputs": [
        {
          "output_type": "stream",
          "text": [
            "(2537, 36)\n",
            "(2537, 24)\n"
          ],
          "name": "stdout"
        }
      ]
    },
    {
      "cell_type": "code",
      "metadata": {
        "id": "kyxUl3u2T6kQ"
      },
      "source": [
        "testFeaturesColumns = pd.get_dummies(dfModified_test)\n",
        "testFeaturesColumns.columns = [re.sub('[^a-zA-Z0-9]', '', col) for col in testFeaturesColumns.columns]"
      ],
      "execution_count": null,
      "outputs": []
    },
    {
      "cell_type": "code",
      "metadata": {
        "id": "ArP-roIIT-Yf"
      },
      "source": [
        "drop_red_columns = ['destinationHome','destinationWork', 'educationAssociatesdegree','educationHighSchoolGraduate','educationSomeHighSchool', 'RestaurantLessThan20isoften',\n",
        "                    'age41','age46', 'age50plus','CarryAwayisoften','haschildren',\n",
        "                    'agebelow21', 'toCouponGEQ5min']\n",
        "testFeaturesColumns.drop(drop_red_columns, axis=1, inplace=True)"
      ],
      "execution_count": null,
      "outputs": []
    },
    {
      "cell_type": "code",
      "metadata": {
        "id": "VlOf1vqKUVwI"
      },
      "source": [
        "prediction = grid2.predict(testFeaturesColumns)\n",
        "pd.DataFrame({\n",
        "    'customer_id': testDF['customer_id'],\n",
        "    'prediction': prediction\n",
        "}).to_csv('/content/drive/MyDrive/TSW-hackathon-1/OutputTest.csv')"
      ],
      "execution_count": null,
      "outputs": []
    },
    {
      "cell_type": "code",
      "metadata": {
        "colab": {
          "base_uri": "https://localhost:8080/"
        },
        "id": "2xNwpQ6DXAeL",
        "outputId": "f0a17f95-d7f8-4824-ba6a-eee951f1f98d"
      },
      "source": [
        "grid2.best_score_"
      ],
      "execution_count": null,
      "outputs": [
        {
          "output_type": "execute_result",
          "data": {
            "text/plain": [
              "0.7211969302260085"
            ]
          },
          "metadata": {
            "tags": []
          },
          "execution_count": 30
        }
      ]
    },
    {
      "cell_type": "code",
      "metadata": {
        "id": "Fm1RPtCLXFAM"
      },
      "source": [
        ""
      ],
      "execution_count": null,
      "outputs": []
    }
  ]
}